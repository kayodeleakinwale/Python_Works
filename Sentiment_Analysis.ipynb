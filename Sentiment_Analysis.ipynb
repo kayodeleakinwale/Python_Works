{
  "cells": [
    {
      "cell_type": "markdown",
      "metadata": {
        "id": "view-in-github",
        "colab_type": "text"
      },
      "source": [
        "<a href=\"https://colab.research.google.com/github/kayodeleakinwale/Python_Works/blob/main/Sentiment_Analysis.ipynb\" target=\"_parent\"><img src=\"https://colab.research.google.com/assets/colab-badge.svg\" alt=\"Open In Colab\"/></a>"
      ]
    },
    {
      "cell_type": "code",
      "execution_count": null,
      "metadata": {
        "id": "9Dx69BBtfEHc",
        "outputId": "f1715808-7cf8-4b0b-8232-83c7fd7ab8a4",
        "colab": {
          "base_uri": "https://localhost:8080/"
        }
      },
      "outputs": [
        {
          "output_type": "stream",
          "name": "stdout",
          "text": [
            "Requirement already satisfied: nltk in /usr/local/lib/python3.10/dist-packages (3.8.1)\n",
            "Requirement already satisfied: click in /usr/local/lib/python3.10/dist-packages (from nltk) (8.1.7)\n",
            "Requirement already satisfied: joblib in /usr/local/lib/python3.10/dist-packages (from nltk) (1.3.2)\n",
            "Requirement already satisfied: regex>=2021.8.3 in /usr/local/lib/python3.10/dist-packages (from nltk) (2023.6.3)\n",
            "Requirement already satisfied: tqdm in /usr/local/lib/python3.10/dist-packages (from nltk) (4.66.1)\n",
            "Requirement already satisfied: matplotlib in /usr/local/lib/python3.10/dist-packages (3.7.1)\n",
            "Requirement already satisfied: contourpy>=1.0.1 in /usr/local/lib/python3.10/dist-packages (from matplotlib) (1.2.0)\n",
            "Requirement already satisfied: cycler>=0.10 in /usr/local/lib/python3.10/dist-packages (from matplotlib) (0.12.1)\n",
            "Requirement already satisfied: fonttools>=4.22.0 in /usr/local/lib/python3.10/dist-packages (from matplotlib) (4.44.3)\n",
            "Requirement already satisfied: kiwisolver>=1.0.1 in /usr/local/lib/python3.10/dist-packages (from matplotlib) (1.4.5)\n",
            "Requirement already satisfied: numpy>=1.20 in /usr/local/lib/python3.10/dist-packages (from matplotlib) (1.23.5)\n",
            "Requirement already satisfied: packaging>=20.0 in /usr/local/lib/python3.10/dist-packages (from matplotlib) (23.2)\n",
            "Requirement already satisfied: pillow>=6.2.0 in /usr/local/lib/python3.10/dist-packages (from matplotlib) (9.4.0)\n",
            "Requirement already satisfied: pyparsing>=2.3.1 in /usr/local/lib/python3.10/dist-packages (from matplotlib) (3.1.1)\n",
            "Requirement already satisfied: python-dateutil>=2.7 in /usr/local/lib/python3.10/dist-packages (from matplotlib) (2.8.2)\n",
            "Requirement already satisfied: six>=1.5 in /usr/local/lib/python3.10/dist-packages (from python-dateutil>=2.7->matplotlib) (1.16.0)\n"
          ]
        },
        {
          "output_type": "stream",
          "name": "stderr",
          "text": [
            "[nltk_data] Downloading package stopwords to /root/nltk_data...\n",
            "[nltk_data]   Unzipping corpora/stopwords.zip.\n",
            "[nltk_data] Downloading package wordnet to /root/nltk_data...\n",
            "[nltk_data] Downloading package omw-1.4 to /root/nltk_data...\n"
          ]
        },
        {
          "output_type": "execute_result",
          "data": {
            "text/plain": [
              "True"
            ]
          },
          "metadata": {},
          "execution_count": 1
        }
      ],
      "source": [
        "#Here I install the nltk package onto the Google Colab environment. This needs to be run every time you load in the code.\n",
        "import sys\n",
        "!{sys.executable} -m pip install nltk\n",
        "!{sys.executable} -m pip install matplotlib\n",
        "\n",
        "import string\n",
        "import nltk #This is a bit redundant, but necessary for the Google Colab environment.\n",
        "import matplotlib.pyplot as plt\n",
        "from nltk.corpus import stopwords\n",
        "from nltk.stem.wordnet import WordNetLemmatizer\n",
        "nltk.download('stopwords')\n",
        "nltk.download('wordnet')\n",
        "nltk.download('omw-1.4')"
      ]
    },
    {
      "cell_type": "code",
      "execution_count": null,
      "metadata": {
        "id": "nurzK1YnfEHd"
      },
      "outputs": [],
      "source": [
        "#Here I load in the file based on the filename.\n",
        "#If the filename doesn't exist, the program exits.\n",
        "\n",
        "#Change this line to whatever string you want.\n",
        "filename = '1997_LETTER.txt'\n",
        "\n",
        "try:\n",
        "    file = open(filename)\n",
        "except:\n",
        "    print('File cannot be opened: ', filename)"
      ]
    },
    {
      "cell_type": "code",
      "execution_count": null,
      "metadata": {
        "id": "D_R37z0VfEHd"
      },
      "outputs": [],
      "source": [
        "#Here I load in the stopwords from the downloaded nltk stopwords list.\n",
        "lmtzr = WordNetLemmatizer()\n",
        "stop = stopwords.words('english')\n",
        "stop.append(\"•\")\n",
        "stop.append(\"amazoncom\")\n",
        "stop.append(\"1997\")"
      ]
    },
    {
      "cell_type": "code",
      "execution_count": null,
      "metadata": {
        "id": "XBihzIs7fEHe"
      },
      "outputs": [],
      "source": [
        "# Create a function that Sorts the words in descending order\n",
        "def sort_and_reverse(lst):\n",
        "    '''Given some list, I want to first sort it and then reverse it after. Here the order is important!\n",
        "    The code should be only one or two lines given the following two list functions:\n",
        "    https://www.w3schools.com/python/ref_list_sort.asp\n",
        "    https://www.programiz.com/python-programming/methods/list/reverse\n",
        "\n",
        "    NOTE: These functions do not actually return another list, they instead modify the list being passed into our argument.\n",
        "    So I do not need to return anything for this function'''\n",
        "\n",
        "\n",
        "    lst.sort(reverse=True)"
      ]
    },
    {
      "cell_type": "code",
      "execution_count": null,
      "metadata": {
        "id": "DPS-te1mfEHe"
      },
      "outputs": [],
      "source": [
        "#This function graphs the words onto a bar graph and adjusts the labels.\n",
        "def graph_words(wordlist, N):\n",
        "    words=[]\n",
        "    counts=[]\n",
        "    for x, word in wordlist[:N]:\n",
        "        words.append(word)\n",
        "        counts.append(x)\n",
        "    fig, ax = plt.subplots()\n",
        "    ax.bar(words, counts)\n",
        "    fig.autofmt_xdate()\n",
        "    plt.show()"
      ]
    },
    {
      "cell_type": "code",
      "execution_count": null,
      "metadata": {
        "id": "gTUnVAbefEHe"
      },
      "outputs": [],
      "source": [
        "#Takes in the file, stopwords list, and number of important words and returns the most frequent words.\n",
        "def most_frequent_words(file, stop, N):\n",
        "    #Here I create a dictionary, which I will assign a value to each word corresponding to the number of times this word appears.\n",
        "    counts = dict()\n",
        "\n",
        "    for line in file:\n",
        "        line = line.rstrip()\n",
        "        line = line.translate(line.maketrans('', '', string.punctuation))\n",
        "        line = line.lower()\n",
        "        words = line.split()\n",
        "\n",
        "        #Now processes the words list, and removes the stop words.\n",
        "        for word in words:\n",
        "            if word not in stop:\n",
        "                #Lemmatizing- we group similar word inflections together (e.g. rock and rocks becomes the same word)\n",
        "                word=lmtzr.lemmatize(word)\n",
        "                if word not in counts:\n",
        "                    counts[word] = 1\n",
        "                else:\n",
        "                    counts[word] += 1\n",
        "\n",
        "    #Puts the dictionary of counts into a list.\n",
        "    word_list = [(counts[w], w) for w in counts]\n",
        "\n",
        "    #Call the Sort and reverse function.\n",
        "    sort_and_reverse(word_list)\n",
        "\n",
        "    #Prints the table of most frequent words\n",
        "    print(\"The \" + str(N) + \" most frequent words are\")\n",
        "    print(\"Rank\\tCount\\tWord\")\n",
        "    i = 1\n",
        "    for x, word in word_list[:N]:\n",
        "        print('%2s\\t%4s\\t%s' %(i, x, word))\n",
        "        i += 1\n",
        "\n",
        "    #Plot the words.\n",
        "    graph_words(word_list, N)"
      ]
    },
    {
      "cell_type": "code",
      "execution_count": null,
      "metadata": {
        "id": "yGniH86sfEHf",
        "outputId": "0ef999f2-8d30-42aa-f24e-95a5b08fca5a",
        "colab": {
          "base_uri": "https://localhost:8080/",
          "height": 634
        }
      },
      "outputs": [
        {
          "output_type": "stream",
          "name": "stdout",
          "text": [
            "The 10 most frequent words are\n",
            "Rank\tCount\tWord\n",
            " 1\t   6\tonline\n",
            " 2\t   4\topportunity\n",
            " 3\t   4\tcustomer\n",
            " 4\t   3\tmarket\n",
            " 5\t   3\tlarge\n",
            " 6\t   3\tcommerce\n",
            " 7\t   2\tsubstantial\n",
            " 8\t   2\tshareholder\n",
            " 9\t   2\tresource\n",
            "10\t   2\tpursue\n"
          ]
        },
        {
          "output_type": "display_data",
          "data": {
            "text/plain": [
              "<Figure size 640x480 with 1 Axes>"
            ],
            "image/png": "[encoded data removed]"
          },
          "metadata": {}
        }
      ],
      "source": [
        "#This fuction currently returns just the top 10 word.\n",
        "#You can fix the arguments you pass in to change the number of words this returns.\n",
        "most_frequent_words(file, stop, 10)"
      ]
    },
    {
      "cell_type": "code",
      "execution_count": null,
      "metadata": {
        "id": "N1r8MShAfEHf"
      },
      "outputs": [],
      "source": []
    }
  ],
  "metadata": {
    "kernelspec": {
      "display_name": "Python 3",
      "language": "python",
      "name": "python3"
    },
    "language_info": {
      "codemirror_mode": {
        "name": "ipython",
        "version": 3
      },
      "file_extension": ".py",
      "mimetype": "text/x-python",
      "name": "python",
      "nbconvert_exporter": "python",
      "pygments_lexer": "ipython3",
      "version": "3.6.15"
    },
    "colab": {
      "provenance": [],
      "include_colab_link": true
    }
  },
  "nbformat": 4,
  "nbformat_minor": 0
}