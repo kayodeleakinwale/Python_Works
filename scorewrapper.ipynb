{
  "nbformat": 4,
  "nbformat_minor": 0,
  "metadata": {
    "colab": {
      "provenance": [],
      "authorship_tag": "ABX9TyOyY4f60zXjqEAt6R4q2C5L",
      "include_colab_link": true
    },
    "kernelspec": {
      "name": "python3",
      "display_name": "Python 3"
    },
    "language_info": {
      "name": "python"
    }
  },
  "cells": [
    {
      "cell_type": "markdown",
      "metadata": {
        "id": "view-in-github",
        "colab_type": "text"
      },
      "source": [
        "<a href=\"https://colab.research.google.com/github/kayodeleakinwale/Python_Works/blob/main/scorewrapper.ipynb\" target=\"_parent\"><img src=\"https://colab.research.google.com/assets/colab-badge.svg\" alt=\"Open In Colab\"/></a>"
      ]
    },
    {
      "cell_type": "code",
      "execution_count": null,
      "metadata": {
        "id": "URDaYugEFCkF"
      },
      "outputs": [],
      "source": [
        "import random\n",
        "\n",
        "test_list = [2, 1.0, None, 'hello world', -1.0, 0, 0.58, 0.75, 0.94, 0.66, 0.84, 0.81, 0.28, 0.57, 0.95, 0.24, 0.15, 0.87, 0.91, 0.94, 0.35, None]\n",
        "\n",
        "seed_list = [353, 1689, 1212, 1296, 1704, 969, 1582, 657, 796, 1912, 1434, 690, 1842, 854, 1377, 1647, 1239, 951, 1516, 1301]\n",
        "\n",
        "def is_int(str):\n",
        "    '''\n",
        "    Returns whether the string input is an integer.\n",
        "    '''\n",
        "    try:\n",
        "        a = float(str)\n",
        "        b = int(str)\n",
        "    except (TypeError, ValueError):\n",
        "        return False\n",
        "    else:\n",
        "        return a == b\n",
        "\n",
        "def is_float(str):\n",
        "    '''\n",
        "    Returns whether the string input is a float.\n",
        "    '''\n",
        "    try:\n",
        "        a = float(str)\n",
        "    except (TypeError, ValueError):\n",
        "        return False\n",
        "    else:\n",
        "        return True\n",
        "\n",
        "def check_seed(input):\n",
        "    '''\n",
        "    Takes in the user input and checks whether input is a seed or pure input.\n",
        "    Output: Tuple of form (boolean, int(input)), where the boolean indicates if the\n",
        "            input is a seed or not.\n",
        "    '''\n",
        "    lowercase = input.lower()\n",
        "    if lowercase[:5] == 'seed ':\n",
        "        try:\n",
        "            ret = int(lowercase[5:])\n",
        "            return True, ret\n",
        "        except:\n",
        "            print(\"Please enter an integer seed input.\")\n",
        "            return False, int(input)\n",
        "    else:\n",
        "        return False, input\n",
        "\n",
        "def run(f):\n",
        "    try:\n",
        "        print(\"Note: Please input seeds as 'seed [number]'.\")\n",
        "        is_seed, user_input = check_seed(input('Please type in number or seed: '))\n",
        "        if is_seed:\n",
        "            if user_input in seed_list: # Check if seed is valid\n",
        "                random.seed(user_input) # Enter seed into random number generator\n",
        "                val = random.randint(0,19) # Randomly produce an index (hashing)\n",
        "                return f(test_list[val])\n",
        "            else:\n",
        "                print(\"You did not enter a valid seed.\")\n",
        "        else:\n",
        "            #Check first if user input is a valid number and converts string input to the corresponding value.\n",
        "            #If not a number, keeps input as a string.\n",
        "            converted_input = user_input\n",
        "            if is_float(user_input):\n",
        "                converted_input = float(user_input)\n",
        "            elif is_int(user_input):\n",
        "                converted_input = int(user_input)\n",
        "\n",
        "            #Then tries to run input function on the converted input. This time doesn't catch errors for student\n",
        "            # debugging purposes.\n",
        "            return f(converted_input)\n",
        "\n",
        "    except (ValueError):\n",
        "        print(\"You must enter an integer. Re-run this cell.\")\n",
        "\n",
        ""
      ]
    }
  ]
}