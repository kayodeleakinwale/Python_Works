{
  "nbformat": 4,
  "nbformat_minor": 0,
  "metadata": {
    "colab": {
      "provenance": [],
      "authorship_tag": "ABX9TyNJcK91lg3el4S4RXokoosq",
      "include_colab_link": true
    },
    "kernelspec": {
      "name": "python3",
      "display_name": "Python 3"
    },
    "language_info": {
      "name": "python"
    }
  },
  "cells": [
    {
      "cell_type": "markdown",
      "metadata": {
        "id": "view-in-github",
        "colab_type": "text"
      },
      "source": [
        "<a href=\"https://colab.research.google.com/github/kayodeleakinwale/Python_Works/blob/main/GroosPayCompute.ipynb\" target=\"_parent\"><img src=\"https://colab.research.google.com/assets/colab-badge.svg\" alt=\"Open In Colab\"/></a>"
      ]
    },
    {
      "cell_type": "code",
      "execution_count": 2,
      "metadata": {
        "id": "zevYc4-SLwNs"
      },
      "outputs": [],
      "source": [
        "# Given (1) number of hours, and (2) rate of pay\n",
        "# Use a custom function to do the following:\n",
        "# For up to 40 hours, compute gross pay = number of hours * rate of pay\n",
        "# For hours worked beyond 40 hours, gross pay = 1.5 * number of hours * rate of pay\n",
        "# Use try/catch exception handling to gracefully exit on non-numeric user input\n",
        "import sys"
      ]
    },
    {
      "cell_type": "code",
      "source": [
        "fixedHours = 40\n",
        "def computepay (iHours, fRate) :\n",
        "# Use conditional loop to carry out the two different calculations based on user-supplied hours\n",
        "# Round the computation to two decimal places\n",
        "  if iHours > fixedHours:\n",
        "    hoursOverFixed = iHours - fixedHours\n",
        "    grossPay = round ( (fixedHours * fRate) + (1.5 * hoursOverFixed * fRate), 2)\n",
        "\n",
        "  else:\n",
        "    grossPay = round ( (iHours * fRate), 2)\n",
        "  return grossPay\n",
        "try:\n",
        "  hours = input (\"Enter number of hours: \")\n",
        "  # Convert input from default string value to integer\n",
        "  intHours = int (hours)\n",
        "  rate = input (\"Enter rate of pay: \")\n",
        "  # Convert input from default string value to float\n",
        "  floatRate = float (rate)\n",
        "except:\n",
        "  print (\"Please enter numeric input\")\n",
        "  sys. exit ()\n",
        "grossPayReceived = computepay (intHours, floatRate)\n",
        "print (\"Gross pay is: $\" + str (grossPayReceived))"
      ],
      "metadata": {
        "colab": {
          "base_uri": "https://localhost:8080/"
        },
        "id": "ni20LxxZL_H_",
        "outputId": "fc2d4741-273e-4c4d-f01d-73c5289f1940"
      },
      "execution_count": 8,
      "outputs": [
        {
          "output_type": "stream",
          "name": "stdout",
          "text": [
            "Enter number of hours: 67\n",
            "Enter rate of pay: 34.89\n",
            "Gross pay is: $2808.64\n"
          ]
        }
      ]
    }
  ]
}