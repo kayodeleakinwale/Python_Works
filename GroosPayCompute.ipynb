{
  "nbformat": 4,
  "nbformat_minor": 0,
  "metadata": {
    "colab": {
      "provenance": [],
      "authorship_tag": "ABX9TyPf/dkwZb1G2YGxcSRAjk9Q",
      "include_colab_link": true
    },
    "kernelspec": {
      "name": "python3",
      "display_name": "Python 3"
    },
    "language_info": {
      "name": "python"
    }
  },
  "cells": [
    {
      "cell_type": "markdown",
      "metadata": {
        "id": "view-in-github",
        "colab_type": "text"
      },
      "source": [
        "<a href=\"https://colab.research.google.com/github/kayodeleakinwale/Python_Works/blob/main/GroosPayCompute.ipynb\" target=\"_parent\"><img src=\"https://colab.research.google.com/assets/colab-badge.svg\" alt=\"Open In Colab\"/></a>"
      ]
    },
    {
      "cell_type": "markdown",
      "source": [
        "This code computes grosspay by getting two inputs from the user. The first input is the number of hours worked -This will be converted to integer. The second is the rate of pay - this will be converted to float. The gross pay is calculated by multiplying these two inputs and the product printed a string.\n",
        "\n",
        "The second part is, given a fixed hour of regular pay as 40 hours, then the rate of overtime hours work is 1.5. This will be calculated and added to the pay for normal hours and the gross pay will be printed as a string.\n",
        "\n",
        "A try and except section is added to the code to raise a friendly error and gradually exit program execution.\n"
      ],
      "metadata": {
        "id": "eeLtelYFPH-m"
      }
    },
    {
      "cell_type": "code",
      "execution_count": null,
      "metadata": {
        "id": "zevYc4-SLwNs"
      },
      "outputs": [],
      "source": [
        "# Given (1) number of hours, and (2) rate of pay\n",
        "# Use a custom function to do the following:\n",
        "# For up to 40 hours, compute gross pay = number of hours * rate of pay\n",
        "# For hours worked beyond 40 hours, gross pay = 1.5 * number of hours * rate of pay\n",
        "# Use try/catch exception handling to gracefully exit on non-numeric user input"
      ]
    },
    {
      "cell_type": "code",
      "source": [
        "import sys\n",
        "fHours = 40\n",
        "def computepay (iHrs, fRte) :\n",
        "# Use conditional loop to carry out the two different calculations based on user-supplied hours\n",
        "# Round the computation to two decimal places\n",
        "  if iHrs > fHours:\n",
        "    OvertimeHours = iHrs - fHours\n",
        "    grossPay = round ( (fHours * fRte) + (1.5 * OvertimeHours * fRte), 2)\n",
        "\n",
        "  else:\n",
        "    grossPay = round ( (iHrs * fRte), 2)\n",
        "  return grossPay\n",
        "try:\n",
        "  hours = input (\"Enter number of hours: \")\n",
        "  # Convert input from default string value to integer\n",
        "  intHrs = int (hours)\n",
        "  rate = input (\"Enter rate of pay: \")\n",
        "  # Convert input from default string value to float\n",
        "  floatRate = float (rate)\n",
        "except:\n",
        "  print (\"Please enter numeric input\")\n",
        "  sys. exit ()\n",
        "grossPayReceived = computepay (intHrs, floatRate)\n",
        "print (\"Gross pay is: $\" + str (grossPayReceived))"
      ],
      "metadata": {
        "colab": {
          "base_uri": "https://localhost:8080/"
        },
        "id": "ni20LxxZL_H_",
        "outputId": "5a5864ad-0d04-4fe7-ad8b-428c0d04341e"
      },
      "execution_count": 2,
      "outputs": [
        {
          "output_type": "stream",
          "name": "stdout",
          "text": [
            "Enter number of hours: 45\n",
            "Enter rate of pay: 20\n",
            "Gross pay is: $950.0\n"
          ]
        }
      ]
    },
    {
      "cell_type": "markdown",
      "source": [
        "Another version of the code without using the sys and a function is below:"
      ],
      "metadata": {
        "id": "6uNWq37GQikR"
      }
    },
    {
      "cell_type": "code",
      "source": [
        "fixedHours = 40\n",
        "hours = input (\"Enter number of hours: \")\n",
        "# Convert input from default string value to integer\n",
        "try:\n",
        "  intHours = int (hours)\n",
        "  rate = input (\"Enter rate of pay: \")\n",
        "  # Convert input from default string value to float\n",
        "  floatRate = float (rate)\n",
        "  # Use conditional loop to carry out the two different calculations based on user-supplied hours\n",
        "  # Round the computation to two decimal places\n",
        "  if intHours > fixedHours:\n",
        "    hoursOverFixed = intHours - fixedHours\n",
        "    grossPay = round ((fixedHours * floatRate) + (1.5 * hoursOverFixed * floatRate), 2)\n",
        "  else:\n",
        "    grossPay = round ((intHours * floatRate), 2)\n",
        "  # Print the result\n",
        "  print (\"Gross pay is: $\" + str (grossPay))\n",
        "except:\n",
        "  print (\"Please enter numeric input\")"
      ],
      "metadata": {
        "id": "az91QF9cQvbf",
        "outputId": "8b87179f-a378-4c8b-b3dc-92d3154cc8ef",
        "colab": {
          "base_uri": "https://localhost:8080/"
        }
      },
      "execution_count": null,
      "outputs": [
        {
          "output_type": "stream",
          "name": "stdout",
          "text": [
            "Enter number of hours: 56\n",
            "Enter rate of pay: 20\n",
            "Gross pay is: $1280.0\n"
          ]
        }
      ]
    }
  ]
}