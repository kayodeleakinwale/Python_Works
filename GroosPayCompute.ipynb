{
  "nbformat": 4,
  "nbformat_minor": 0,
  "metadata": {
    "colab": {
      "provenance": [],
      "authorship_tag": "ABX9TyPiJI/gZ/dUYgKlExsMLH37",
      "include_colab_link": true
    },
    "kernelspec": {
      "name": "python3",
      "display_name": "Python 3"
    },
    "language_info": {
      "name": "python"
    }
  },
  "cells": [
    {
      "cell_type": "markdown",
      "metadata": {
        "id": "view-in-github",
        "colab_type": "text"
      },
      "source": [
        "<a href=\"https://colab.research.google.com/github/kayodeleakinwale/Python_Works/blob/main/GroosPayCompute.ipynb\" target=\"_parent\"><img src=\"https://colab.research.google.com/assets/colab-badge.svg\" alt=\"Open In Colab\"/></a>"
      ]
    },
    {
      "cell_type": "markdown",
      "source": [
        "This code computes grosspay by getting two inputs from the user. The first input is the number of hours worked -This will be converted to integer. The second is the rate of pay - this will be converted to float. The gross pay is calculated by multiplying these two inputs and the product printed a string.\n",
        "\n",
        "The second part is, given a fixed hour of regular pay as 40 hours, then the rate of overtime hours work is 1.5. This will be calculated and added to the pay for normal hours and the gross pay will be printed as a string.\n",
        "\n",
        "A try and except section is added to the code to raise a friendly error and gradually exit program execution.\n"
      ],
      "metadata": {
        "id": "eeLtelYFPH-m"
      }
    },
    {
      "cell_type": "code",
      "execution_count": 2,
      "metadata": {
        "id": "zevYc4-SLwNs"
      },
      "outputs": [],
      "source": [
        "# Given (1) number of hours, and (2) rate of pay\n",
        "# Use a custom function to do the following:\n",
        "# For up to 40 hours, compute gross pay = number of hours * rate of pay\n",
        "# For hours worked beyond 40 hours, gross pay = 1.5 * number of hours * rate of pay\n",
        "# Use try/catch exception handling to gracefully exit on non-numeric user input\n",
        "import sys"
      ]
    },
    {
      "cell_type": "code",
      "source": [
        "fixedHours = 40\n",
        "def computepay (iHours, fRate) :\n",
        "# Use conditional loop to carry out the two different calculations based on user-supplied hours\n",
        "# Round the computation to two decimal places\n",
        "  if iHours > fixedHours:\n",
        "    hoursOverFixed = iHours - fixedHours\n",
        "    grossPay = round ( (fixedHours * fRate) + (1.5 * hoursOverFixed * fRate), 2)\n",
        "\n",
        "  else:\n",
        "    grossPay = round ( (iHours * fRate), 2)\n",
        "  return grossPay\n",
        "try:\n",
        "  hours = input (\"Enter number of hours: \")\n",
        "  # Convert input from default string value to integer\n",
        "  intHours = int (hours)\n",
        "  rate = input (\"Enter rate of pay: \")\n",
        "  # Convert input from default string value to float\n",
        "  floatRate = float (rate)\n",
        "except:\n",
        "  print (\"Please enter numeric input\")\n",
        "  sys. exit ()\n",
        "grossPayReceived = computepay (intHours, floatRate)\n",
        "print (\"Gross pay is: $\" + str (grossPayReceived))"
      ],
      "metadata": {
        "colab": {
          "base_uri": "https://localhost:8080/"
        },
        "id": "ni20LxxZL_H_",
        "outputId": "882819af-fdd0-4ab6-ee92-cbc01e71f450"
      },
      "execution_count": 3,
      "outputs": [
        {
          "output_type": "stream",
          "name": "stdout",
          "text": [
            "Enter number of hours: 55\n",
            "Enter rate of pay: 80.9\n",
            "Gross pay is: $5056.25\n"
          ]
        }
      ]
    },
    {
      "cell_type": "markdown",
      "source": [
        "Another version of the code without using the sys is below:"
      ],
      "metadata": {
        "id": "6uNWq37GQikR"
      }
    },
    {
      "cell_type": "code",
      "source": [],
      "metadata": {
        "id": "az91QF9cQvbf"
      },
      "execution_count": null,
      "outputs": []
    }
  ]
}